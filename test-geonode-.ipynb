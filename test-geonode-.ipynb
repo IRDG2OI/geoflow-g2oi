{
 "cells": [
  {
   "cell_type": "markdown",
   "metadata": {},
   "source": [
    "## Geonode tests"
   ]
  },
  {
   "attachments": {},
   "cell_type": "markdown",
   "metadata": {},
   "source": [
    "Geonode user settings"
   ]
  },
  {
   "cell_type": "code",
   "execution_count": 2,
   "metadata": {},
   "outputs": [],
   "source": [
    "import requests\n",
    "base_url = 'https://geonode.marbec-tools.ird.fr'\n",
    "url = base_url + '/account/login/'\n",
    "username = ''\n",
    "password = ''"
   ]
  },
  {
   "attachments": {},
   "cell_type": "markdown",
   "metadata": {},
   "source": [
    "Auth request"
   ]
  },
  {
   "cell_type": "code",
   "execution_count": 3,
   "metadata": {},
   "outputs": [
    {
     "name": "stdout",
     "output_type": "stream",
     "text": [
      "Service ok: True\n",
      "200\n",
      "Logged-in!\n"
     ]
    }
   ],
   "source": [
    "# No token needed\n",
    "# https://www.debugbear.com/basic-auth-header-generator \n",
    "# headers = {'Authorization': ''}\n",
    "r = requests.get(url, auth=(username, password))\n",
    "print('Service ok:', r.ok)\n",
    "print(r.status_code)\n",
    "print(\"Logged-in!\")"
   ]
  },
  {
   "attachments": {},
   "cell_type": "markdown",
   "metadata": {},
   "source": [
    "Upload shapefile and ISO Metadata"
   ]
  },
  {
   "cell_type": "code",
   "execution_count": 5,
   "metadata": {},
   "outputs": [
    {
     "name": "stdout",
     "output_type": "stream",
     "text": [
      "<Response [200]> 200\n"
     ]
    }
   ],
   "source": [
    "import os\n",
    "\n",
    "# GEONODE UPLOAD URL\n",
    "url = base_url + '/api/v2/uploads/upload/'\n",
    "dataset_path = \"/home/sylvain/Documents/IRD/test_import_geonode/shape/\"\n",
    "filename = \"observe_samples_size_distribution\"\n",
    "files= [\n",
    "    ('base_file', (filename + '.shp', open(os.path.join(dataset_path + filename + '.sld'),'rb'),'application/octet-stream')), \n",
    "    ('base_file', (filename + '.shp', open(os.path.join(dataset_path,filename+'.shp'),'rb'),'application/octet-stream')),\n",
    "    ('dbf_file', (filename + '.dbf', open(os.path.join(dataset_path, filename+'.dbf'),'rb'),'application/octet-stream')),\n",
    "    ('shx_file', (filename + '.shx', open(os.path.join(dataset_path, filename+'.shx'),'rb'),'application/octet-stream')),\n",
    "    ('prj_file', (filename + '.prj', open(os.path.join(dataset_path, filename+'.prj'),'rb'),'application/octet-stream')),\n",
    "    ('xml_file', (filename + '.xml', open(os.path.join(dataset_path, filename+'.xml'),'rb'),'application/xml'))\n",
    "    ]\n",
    "# GEOJSON TO BE TESTED\n",
    "# files = {\"base_file\": open(dataset_path + filename + '.geojson', \"rb\")}\n",
    "\n",
    "params = {\n",
    "    \"permissions\": '{ \"users\": {\"AnonymousUser\": [\"view_resourcebase\", \"download_resourcebase\"]} , \"groups\":{}}',  # layer permissions\n",
    "    \"time\": \"false\",\n",
    "    \"layer_title\": \"Sample distrib bdd thons\",\n",
    "    \"time\": \"false\",\n",
    "    \"charset\": \"UTF-8\",\n",
    "    \"non_interactive\": 'true',\n",
    "}\n",
    "    # params={\n",
    "    #     \"time\": False,\n",
    "    #     \"mosaic\": False,\n",
    "    #     \"abstract\": \"some abstract\",\n",
    "    #     \"dataset_title\": \"some title\",\n",
    "    #     \"permissions\": json.dumps(\n",
    "    #         {\n",
    "    #             \"users\": {\n",
    "    #                 \"AnonymousUser\": [\n",
    "    #                     \"view_resourcebase\",\n",
    "    #                     \"download_resourcebase\",\n",
    "    #                 ],\n",
    "    #             },\n",
    "    #             \"groups\": {}\n",
    "    #         },\n",
    "    #     ),\n",
    "    #     \"metadata_uploaded_preserve\": False,\n",
    "    #     \"metadata_upload_form\": False,\n",
    "    #     \"style_upload_form\": False,\n",
    "    #     \"charset\": None,\n",
    "    # }\n",
    "\n",
    "\n",
    "ds_create_resp = requests.post(url, \n",
    "                               auth=(username, password), \n",
    "                               files=files, \n",
    "                               data=params)\n",
    "\n",
    "print(ds_create_resp, ds_create_resp.status_code)"
   ]
  },
  {
   "attachments": {},
   "cell_type": "markdown",
   "metadata": {},
   "source": [
    "Print URL from Response"
   ]
  },
  {
   "cell_type": "code",
   "execution_count": 6,
   "metadata": {},
   "outputs": [
    {
     "name": "stdout",
     "output_type": "stream",
     "text": [
      "ID:10,\n",
      " https://geonode.marbec-tools.ird.fr/catalogue/#/dataset/16\", \n",
      "\"57.7001000,-11.8668000,57.8501000,-11.7501000\", \n",
      "\"EPSG:4326\"},\n"
     ]
    }
   ],
   "source": [
    "ds_id = ds_create_resp.text.splitlines()[0].split()[3]\n",
    "ds_url = ds_create_resp.text.splitlines()[0].split()[5].strip('\"')\n",
    "ds_bbox = ds_create_resp.text.splitlines()[0].split()[7]\n",
    "ds_crs = ds_create_resp.text.splitlines()[0].split()[12]\n",
    "print('ID:' + str(ds_id) + '\\n', base_url + ds_url, '\\n' + ds_bbox, '\\n' + ds_crs)"
   ]
  }
 ],
 "metadata": {
  "kernelspec": {
   "display_name": "Python 3",
   "language": "python",
   "name": "python3"
  },
  "language_info": {
   "codemirror_mode": {
    "name": "ipython",
    "version": 3
   },
   "file_extension": ".py",
   "mimetype": "text/x-python",
   "name": "python",
   "nbconvert_exporter": "python",
   "pygments_lexer": "ipython3",
   "version": "3.10.9"
  },
  "orig_nbformat": 4
 },
 "nbformat": 4,
 "nbformat_minor": 2
}
